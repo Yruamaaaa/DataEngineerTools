{
 "cells": [
  {
   "cell_type": "markdown",
   "metadata": {},
   "source": [
    "# Introduction"
   ]
  },
  {
   "cell_type": "markdown",
   "metadata": {},
   "source": [
    "Avant de commencer, parcourer le fichier README.rst"
   ]
  },
  {
   "cell_type": "markdown",
   "metadata": {},
   "source": [
    "# Requête HTTP "
   ]
  },
  {
   "cell_type": "markdown",
   "metadata": {},
   "source": [
    "Un requête HTTP est une requête basé sur le protocole TCP, elle fait partie de la couche application de la couche OSI. Elle permet d'accéder aux données mise à disposition sur une adresse IP (ou url résolue par un DNS) et un port. \n",
    "\n",
    "Les deux ports les plus utilisé dans le web sont le 80 pour les sites en HTTP et le 443 pour les sites en HTTPS. HTTPS est une variable du protocole HTTP basé sur le protocole TLS.\n",
    "\n",
    "Il existe de nombreux types de requêtes selon la convention `REST`: \n",
    "- GET\n",
    "- POST\n",
    "- PUT \n",
    "- DELETE\n",
    "- UPDATE.\n",
    "\n",
    "Dans notre cas nous allons utiliser la plupart du temps des GET et potentiellement des POST. \n",
    "- Le GET permet comme sont nom l'indique de récupérer des informations en fonction de certain paramètres. \n",
    "- Le POST nécéssite un envoie de données pour récupérer des données. Le body du post est, la plupart du temps, envoyé sous la forme d'un objet JSON.\n",
    "\n",
    "Ces requêtes encapsulent un certain nombre de paramètres qui permettent soient d'identifier une provenance et un utilisateur ou de réaliser différentes actions."
   ]
  },
  {
   "cell_type": "code",
   "execution_count": 1,
   "metadata": {},
   "outputs": [],
   "source": [
    "import requests"
   ]
  },
  {
   "cell_type": "code",
   "execution_count": 2,
   "metadata": {},
   "outputs": [
    {
     "data": {
      "text/plain": [
       "200"
      ]
     },
     "execution_count": 2,
     "metadata": {},
     "output_type": "execute_result"
    }
   ],
   "source": [
    "url = \"http://www.esiee.fr/\"\n",
    "response = requests.get(url)\n",
    "response.status_code"
   ]
  },
  {
   "cell_type": "markdown",
   "metadata": {},
   "source": [
    "Il existe deux méthodes pour récupérer le contenu de la page :\n",
    "\n",
    "- `response.text` qui permet de retourner le texte sous la forme d'une chaine de charactères.\n",
    "- `response.content` qui permet de récupérer le contenu de la page sous la forme de bytes"
   ]
  },
  {
   "cell_type": "code",
   "execution_count": 3,
   "metadata": {},
   "outputs": [
    {
     "data": {
      "text/plain": [
       "bytes"
      ]
     },
     "execution_count": 3,
     "metadata": {},
     "output_type": "execute_result"
    }
   ],
   "source": [
    "type(response.content)"
   ]
  },
  {
   "cell_type": "code",
   "execution_count": 4,
   "metadata": {},
   "outputs": [
    {
     "data": {
      "text/plain": [
       "str"
      ]
     },
     "execution_count": 4,
     "metadata": {},
     "output_type": "execute_result"
    }
   ],
   "source": [
    "type(response.text)"
   ]
  },
  {
   "cell_type": "markdown",
   "metadata": {},
   "source": [
    "Pour récupérer les 1000 premiers charactères de la page :"
   ]
  },
  {
   "cell_type": "code",
   "execution_count": 5,
   "metadata": {},
   "outputs": [
    {
     "data": {
      "text/plain": [
       "'<!DOCTYPE html>\\n<html lang=\"fr-FR\">\\n<head>\\n\\n<meta charset=\"utf-8\">\\n<!-- \\n\\tThis website is powered by TYPO3 - inspiring people to share!\\n\\tTYPO3 is a free open source Content Management Framework initially created by Kasper Skaarhoj and licensed under GNU/GPL.\\n\\tTYPO3 is copyright 1998-2023 of Kasper Skaarhoj. Extensions are copyright of their respective owners.\\n\\tInformation and contribution at https://typo3.org/\\n-->\\n\\n\\n\\n<title>ESIEE Paris, l&#039;école de l&#039;innovation technologique | ESIEE Paris</title>\\n<meta name=\"generator\" content=\"TYPO3 CMS\" />\\n<meta name=\"description\" content=\"Rejoignez ESIEE Paris, grande école d&#039;ingénieur dans les domaines des transitions numérique, énergétique et environnementale. Classée dans le groupe A, parmi les meilleures écoles d&#039;ingénieur selon le classement de l&#039;Etudiant. Habilitée par la Commission des Titres d&#039;Ingénieur (CTI). Membre de la Conférence des Grandes Ecoles (CGE). \" />\\n<meta name=\"viewport\" content=\"width=device-width'"
      ]
     },
     "execution_count": 5,
     "metadata": {},
     "output_type": "execute_result"
    }
   ],
   "source": [
    "response.text[0:1000]"
   ]
  },
  {
   "cell_type": "markdown",
   "metadata": {},
   "source": [
    "Pour récupérer les headers HTTP de la réponse :"
   ]
  },
  {
   "cell_type": "code",
   "execution_count": 6,
   "metadata": {},
   "outputs": [
    {
     "data": {
      "text/plain": [
       "{'Date': 'Tue, 21 Nov 2023 12:44:42 GMT', 'Server': 'Apache', 'Content-Language': 'fr', 'Vary': 'Accept-Encoding', 'Content-Encoding': 'gzip', 'X-UA-Compatible': 'IE=edge', 'X-Content-Type-Options': 'nosniff', 'Content-Length': '15693', 'Content-Type': 'text/html; charset=utf-8', 'X-Varnish': '1185581 1643369', 'Age': '75', 'Via': '1.1 varnish (Varnish/7.1)', 'Accept-Ranges': 'bytes', 'Connection': 'keep-alive'}"
      ]
     },
     "execution_count": 6,
     "metadata": {},
     "output_type": "execute_result"
    }
   ],
   "source": [
    "response.headers"
   ]
  },
  {
   "cell_type": "markdown",
   "metadata": {},
   "source": [
    "On peut modifier les paramêtres de la requête et/ou ses headers. On peut par exemple ajouter un UserAgent et un timeout de 10 secondes:"
   ]
  },
  {
   "cell_type": "code",
   "execution_count": 7,
   "metadata": {},
   "outputs": [
    {
     "data": {
      "text/plain": [
       "b'<!DOCTYPE html>\\n<html lang=\"fr-FR\">\\n<head>\\n\\n<meta charset=\"utf-8\">\\n<!-- \\n\\tThis website is powered by TYPO3 - inspiring people to share!\\n\\tTYPO3 is a free open source Content Management Framework initially created by Kasper Skaarhoj and licensed under GNU/GPL.\\n\\tTYPO3 is copyright 1998-2023 of Kasper Skaarhoj. Extensions are copyright of their respective owners.\\n\\tInformation and contribution at https://typo3.org/\\n-->\\n\\n\\n\\n<title>ESIEE Paris, l&#039;\\xc3\\xa9cole de l&#039;innovation technologique | ESIEE Paris</title>\\n<meta name=\"generator\" content=\"TYPO3 CMS\" />\\n<meta name=\"description\" content=\"Rejoignez ESIEE Paris, grande \\xc3\\xa9cole d&#039;ing\\xc3\\xa9nieur dans les domaines des transitions num\\xc3\\xa9rique, \\xc3\\xa9nerg\\xc3\\xa9tique et environnementale. Class\\xc3\\xa9e dans le groupe A, parmi les meilleures \\xc3\\xa9coles d&#039;ing\\xc3\\xa9nieur selon le classement de l&#039;Etudiant. Habilit\\xc3\\xa9e par la Commission des Titres d&#039;Ing\\xc3\\xa9nieur (CTI). Membre de la Conf\\xc3\\xa9rence des Grandes Ecoles (CGE). \" />\\n<meta name=\"viewport\" content=\"width='"
      ]
     },
     "execution_count": 7,
     "metadata": {},
     "output_type": "execute_result"
    }
   ],
   "source": [
    "headers = {'User-Agent': 'Mozilla/5.0 (Macintosh; Intel Mac OS X 10_10_1) AppleWebKit/537.36 (KHTML, like Gecko) Chrome/39.0.2171.95 Safari/537.36'}\n",
    "response = requests.get(url, headers=headers, timeout = 10)\n",
    "response.content[0:1000]"
   ]
  },
  {
   "cell_type": "markdown",
   "metadata": {},
   "source": [
    "## Exercice"
   ]
  },
  {
   "cell_type": "markdown",
   "metadata": {},
   "source": [
    "## Exercice 1\n",
    "\n",
    "- Créer une classe Python permettant de faire des requêtes HTTP.\n",
    "- Cette classe doit utiliser toujours le même UserAgent.\n",
    "- Le TimeOut sera spécifié à chaque appelle avec une valeur par défaut.\n",
    "- Un mécanisme de retry sera mis en place de façon recursive.\n",
    "\n",
    "## Exercice 2\n",
    "\n",
    "- Faire une fonction permettant de supprimer tous les espaces supperflus d'une string\n",
    "- Faire une fonction qui prend une string html et renvois une string intelligible (enlever les caractères spéciaux,\n",
    "- Récupérer le domaine en fonction d'un url"
   ]
  },
  {
   "cell_type": "code",
   "execution_count": 8,
   "metadata": {},
   "outputs": [
    {
     "name": "stdout",
     "output_type": "stream",
     "text": [
      "  DOCTYPE html   html lang  fr FR    head    meta charset  utf 8          This website is powered by TYPO3   inspiring people to share   TYPO3 is a free open source Content Management Framework initially created by Kasper Skaarhoj and licensed under GNU GPL   TYPO3 is copyright 1998 2023 of Kasper Skaarhoj  Extensions are copyright of their respective owners   Information and contribution at https   typo3 org          title ESIEE Paris  l  039  cole de l  039 innovation technologique   ESIEE Paris  title   meta name  generator  content  TYPO3 CMS      meta name  description  content  Rejoignez ESIEE Paris  grande  cole d  039 ing nieur dans les domaines des transitions num rique   nerg tique et environnementale  Class e dans le groupe A  parmi les meilleures  coles d  039 ing nieur selon le classement de l  039 Etudiant  Habilit e par la Commission des Titres d  039 Ing nieur  CTI   Membre de la Conf rence des Grandes Ecoles  CGE         meta name  viewport  content  width device width\n"
     ]
    }
   ],
   "source": [
    "import re\n",
    "\n",
    "class HttpRequest : \n",
    "\n",
    "    def __init__(self, url,timeout = 10):\n",
    "        self.url = url \n",
    "        self.timeout = timeout\n",
    "        self.headers = {'User-Agent': 'Mozilla/5.0 (Macintosh; Intel Mac OS X 10_10_1) AppleWebKit/537.36 (KHTML, like Gecko) Chrome/39.0.2171.95 Safari/537.36'}\n",
    "        \n",
    "        \n",
    "    def scrap(self,tries = 3):\n",
    "        try : \n",
    "            response = requests.get(self.url, headers = self.headers,timeout = self.timeout)\n",
    "            return response\n",
    "        except :\n",
    "            if tries > 0 : \n",
    "                return self.scrap(tries -1)\n",
    "            else : \n",
    "                return(\"aled\")\n",
    "\n",
    "def supprespace(string):\n",
    "    string.replace(' ', '')\n",
    "    return string \n",
    "\n",
    "def dehors(string):\n",
    "    string = re.sub(r\"[^a-zA-Z0-9]\", \" \", string)\n",
    "    return string \n",
    "    \n",
    "a = HttpRequest(\"http://www.esiee.fr/\")\n",
    "stringhtml = a.scrap().text[0:1000]\n",
    "\n",
    "print(dehors(stringhtml))"
   ]
  },
  {
   "cell_type": "code",
   "execution_count": null,
   "metadata": {},
   "outputs": [],
   "source": []
  },
  {
   "cell_type": "markdown",
   "metadata": {},
   "source": [
    "# Exploitation du HTML  "
   ]
  },
  {
   "cell_type": "markdown",
   "metadata": {},
   "source": [
    "Ici, il faut récupérer le code HTML d'un site web à partir d'une requête. Lorsque vous avez récupéré le texte d'un site il faut le parser. Pour cela, on utilise BeautifulSoup qui permet de transformer la structure HTML en objet Python. Cela permet de récupérer efficacement les données qui nous intéresse.\n",
    "\n",
    "Pour les webmasters, le blocage le plus souvent mis en place et un blocage sur le User-Agent. Le User-Agent est un paramètre intégré dans la requête HTTP réalisé par le Navigateur pour envoyer au front des informations basiques :\n",
    "\n",
    "- la version du Navigateur,\n",
    "- la version de l'OS\n",
    "- Le type de gestionnaire graphique (Gecko)\n",
    "- le type de device utilisé"
   ]
  },
  {
   "cell_type": "markdown",
   "metadata": {},
   "source": [
    "Exemple de User Agent :  \n",
    "\n",
    "`Mozilla/5.0 (Windows NT 6.1; Win64; x64; rv:47.0) Gecko/20100101 Firefox/47.0`"
   ]
  },
  {
   "cell_type": "markdown",
   "metadata": {},
   "source": [
    "Commençons à utiliser `BeautifulSoup`, pour l'installer : "
   ]
  },
  {
   "cell_type": "code",
   "execution_count": 9,
   "metadata": {},
   "outputs": [
    {
     "name": "stdout",
     "output_type": "stream",
     "text": [
      "Requirement already satisfied: bs4 in c:\\users\\bodin\\anaconda3\\lib\\site-packages (0.0.1)\n",
      "Requirement already satisfied: beautifulsoup4 in c:\\users\\bodin\\anaconda3\\lib\\site-packages (from bs4) (4.12.2)\n",
      "Requirement already satisfied: soupsieve>1.2 in c:\\users\\bodin\\anaconda3\\lib\\site-packages (from beautifulsoup4->bs4) (2.4)\n",
      "Requirement already satisfied: lxml in c:\\users\\bodin\\anaconda3\\lib\\site-packages (4.9.3)\n"
     ]
    }
   ],
   "source": [
    "!pip install bs4\n",
    "!pip install  lxml"
   ]
  },
  {
   "cell_type": "code",
   "execution_count": 10,
   "metadata": {},
   "outputs": [],
   "source": [
    "import requests\n",
    "from bs4 import BeautifulSoup"
   ]
  },
  {
   "cell_type": "markdown",
   "metadata": {},
   "source": [
    "Pour transformer une requête (requests) en objet BeautifulSoup :"
   ]
  },
  {
   "cell_type": "code",
   "execution_count": 11,
   "metadata": {},
   "outputs": [],
   "source": [
    "response = requests.get(url)\n",
    "soup = BeautifulSoup(response.text)"
   ]
  },
  {
   "cell_type": "markdown",
   "metadata": {},
   "source": [
    "Il se peut qu'un message d'erreur arrive à ce point là si vous n'avez pas la librarie `lxml` installée, pour se faire vous avez juste à lancer la commande suivante : "
   ]
  },
  {
   "cell_type": "code",
   "execution_count": 12,
   "metadata": {},
   "outputs": [
    {
     "name": "stdout",
     "output_type": "stream",
     "text": [
      "Requirement already satisfied: lxml in c:\\users\\bodin\\anaconda3\\lib\\site-packages (4.9.3)\n"
     ]
    }
   ],
   "source": [
    "!pip install lxml"
   ]
  },
  {
   "cell_type": "markdown",
   "metadata": {},
   "source": [
    "Pour trouver tous les liens d'une page on récupère la balise `a` qui permet de gérer les liens en HTML  :"
   ]
  },
  {
   "cell_type": "code",
   "execution_count": 13,
   "metadata": {},
   "outputs": [
    {
     "data": {
      "text/plain": [
       "[<a href=\"/#content\">Aller au contenu</a>,\n",
       " <a href=\"/#menu\">Aller au menu</a>,\n",
       " <a href=\"/plan-du-site/\">Plan du site</a>,\n",
       " <a href=\"/nous-rencontrer-1\">Bien choisir son école, c'est aussi la rencontrer  ! Rendez-vous à la prochaine journée portes ouvertes le 9 décembre.</a>,\n",
       " <a href=\"/\"><img alt=\"ESIEE PARIS\" class=\"a42-ac-replace-img\" src=\"/typo3conf/ext/esiee_sitepackage/Resources/Public/imgs/svg/logo-esiee.svg\"/></a>,\n",
       " <a href=\"/brochures-1\">Brochures</a>,\n",
       " <a href=\"/informations/etudiantes-et-etudiants\">Espace élèves</a>,\n",
       " <a href=\"/\" hreflang=\"fr-FR\" title=\"Français\">\n",
       " <span>Fr</span>\n",
       " </a>,\n",
       " <a href=\"/en/\" hreflang=\"en-US\" title=\"English\">\n",
       " <span>En</span>\n",
       " </a>,\n",
       " <a href=\"/candidater-1\">Candidater</a>]"
      ]
     },
     "execution_count": 13,
     "metadata": {},
     "output_type": "execute_result"
    }
   ],
   "source": [
    "soup.find_all(\"a\")[0:10]"
   ]
  },
  {
   "cell_type": "markdown",
   "metadata": {},
   "source": [
    "On peut préciser la classe HTML voulue  pour l'ensemble des `a`:\n",
    "\n",
    "```python\n",
    "soup.find_all(class_=\"<CLASS_NAME>\")[0:10]\n",
    "```\n",
    "\n",
    "Ici par exemple: "
   ]
  },
  {
   "cell_type": "code",
   "execution_count": 14,
   "metadata": {},
   "outputs": [
    {
     "data": {
      "text/plain": [
       "[]"
      ]
     },
     "execution_count": 14,
     "metadata": {},
     "output_type": "execute_result"
    }
   ],
   "source": [
    "soup.find_all(class_=\"slide\")[0:5]"
   ]
  },
  {
   "cell_type": "markdown",
   "metadata": {},
   "source": [
    "Pour récupérer le text sans les balises HTML :"
   ]
  },
  {
   "cell_type": "code",
   "execution_count": 15,
   "metadata": {},
   "outputs": [
    {
     "data": {
      "text/plain": [
       "\"\\n\\n\\n\\nESIEE Paris, l'école de l'innovation technologique | ESIEE Paris\\n\\n\\n\\n\\n\\n\\n\\n\\n\\n\\n\\n\\n\\n\\n\\n\\n\\n\\n\\n\\n\\n\\n\\n\\nAller au contenu\\nAller au menu\\nPlan du site\\n\\n\\n\\n\\n\\n\\n\\nBien choisir son école, c'est aussi la rencontrer  ! Rendez-vous à la prochaine journée portes ouvertes le 9 décembre.\\n\\n\\n\\n\\n\\nMasquer l'alerte\\n\\n\\n\\n\\n\\n\\n\\n\\n\\n\\n\\n\\n\\n\\nBrochuresEspace élèves\\n\\n\\n\\nFr\\n\\n\\n\\n\\nEn\\n\\n\\n\\n\\n\\n\\n\\n\\n\\nAfficherMasquer la recherche\\r\\n\\t\\t\\n\\n\\n\\nSaisissez votre recherche\\xa0:\\n\\nLancer la recherche\\n\\n\\n\\nCandidater\\n\\nAfficherMasquer le menu\\n\\n\\n\\n\\n\\nRetour au menu principalAfficherMasquer le sous menu\\xa0: L'écolePourquoi choisir ESIEE Paris ?AfficherMasquer le sous menu\\xa0: Gouvernance et conseilsGouvernance et conseilsConseil scientifiqueAfficherMasquer le sous menu\\xa0: Départements d'enseignements et de rechercheInformatique et télécommunicationsIngénierie des systèmes cyberphysiquesIngénierie industrielleSanté, énergie et environnement durableManagement, sciences humaines et languesCorps professoralAfficherMasquer le sous menu\\xa0: Salles blanchesSalles blanchesÉquipements\""
      ]
     },
     "execution_count": 15,
     "metadata": {},
     "output_type": "execute_result"
    }
   ],
   "source": [
    "soup.text[0:1000]"
   ]
  },
  {
   "cell_type": "markdown",
   "metadata": {},
   "source": [
    "## Exercice\n",
    "### Exercice 3\n",
    "\n",
    "Améliorer la classe développé précédemment.\n",
    "\n",
    "- Ajouter une méthode pour récupérer l'objet soup d'un url\n",
    "- Récupérer une liste de User Agent et effectuer une rotation aléatoire sur celui à utiliser\n",
    "- Utiliser cette classe pour parser une page HTML et récupérer : le titre, tous les H1 (si ils existent), les liens vers les images, les liens sortants vers d'autres sites, et le texte principal.\n",
    "\n",
    "Parsing d'un sitemaps pour récupérer une listes de liens avec les informations disponibles. -> Stocker dans un dictionnaire et dans un fichier JSON local."
   ]
  },
  {
   "cell_type": "code",
   "execution_count": 24,
   "metadata": {},
   "outputs": [
    {
     "name": "stdout",
     "output_type": "stream",
     "text": [
      "(\"ESIEE Paris, l'école de l'innovation technologique | ESIEE Paris\", ['\\n\\n'], ['/typo3conf/ext/esiee_sitepackage/Resources/Public/imgs/svg/logo-esiee.svg', 'data:image/gif;base64,R0lGODlhAQABAIAAAP///wAAACH5BAEAAAAALAAAAAABAAEAAAICRAEAOw==', '/fileadmin/_processed_/2/4/csm_ESIEE-Home-Main-Picture_ff09bd6b6e.jpg', 'data:image/gif;base64,R0lGODlhAQABAIAAAP///wAAACH5BAEAAAAALAAAAAABAAEAAAICRAEAOw==', '/fileadmin/_processed_/1/e/csm_eleves-groupe-galerie-1344x840_0f06698b28.jpg', 'data:image/gif;base64,R0lGODlhAQABAIAAAP///wAAACH5BAEAAAAALAAAAAABAAEAAAICRAEAOw==', '/fileadmin/_processed_/6/2/csm_forum-descartes-rue-2019-1344x840_eb74cce508.jpg', 'data:image/gif;base64,R0lGODlhAQABAIAAAP///wAAACH5BAEAAAAALAAAAAABAAEAAAICRAEAOw==', '/fileadmin/_processed_/c/8/csm_illustration-concours-jeunes-talents-orange-2023-1344x840_b06c9809ff.jpg', 'data:image/gif;base64,R0lGODlhAQABAIAAAP///wAAACH5BAEAAAAALAAAAAABAAEAAAICRAEAOw==', '/fileadmin/_processed_/c/1/csm_actu-classement-logo-ranking-1344x840_ec9b640c4f.jpg', 'data:image/gif;base64,R0lGODlhAQABAIAAAP///wAAACH5BAEAAAAALAAAAAABAAEAAAICRAEAOw==', '/fileadmin/_processed_/3/6/csm_eleves-esiee-etudes-1344x840_e502c91148.jpg', 'data:image/gif;base64,R0lGODlhAQABAIAAAP///wAAACH5BAEAAAAALAAAAAABAAEAAAICRAEAOw==', '/fileadmin/_processed_/8/a/csm_trophee-des-femmes-prix-debut-prometteur-2023-1344x840_72d113e61b.jpg', 'data:image/gif;base64,R0lGODlhAQABAIAAAP///wAAACH5BAEAAAAALAAAAAABAAEAAAICRAEAOw==', '/fileadmin/_processed_/9/5/csm_journee-immersion-1344x756_607813ddcf.jpg', 'data:image/gif;base64,R0lGODlhAQABAIAAAP///wAAACH5BAEAAAAALAAAAAABAAEAAAICRAEAOw==', '/fileadmin/_processed_/4/5/csm_game-jam-esiee-paris_1eab0ad4b5.png', 'data:image/gif;base64,R0lGODlhAQABAIAAAP///wAAACH5BAEAAAAALAAAAAABAAEAAAICRAEAOw==', '/fileadmin/_processed_/2/5/csm_conference-ia-science-trash-1344x840_fb17ec22a3.jpg', 'data:image/gif;base64,R0lGODlhAQABAIAAAP///wAAACH5BAEAAAAALAAAAAABAAEAAAICRAEAOw==', '/fileadmin/_processed_/f/0/csm_illustration-ingenieuses-2023-1344x840_85927aa5e2.jpg', 'data:image/gif;base64,R0lGODlhAQABAIAAAP///wAAACH5BAEAAAAALAAAAAABAAEAAAICRAEAOw==', '/fileadmin/_processed_/6/0/csm_illustration-best-paper-award-1344x840_6724a73fb6.jpg', 'data:image/gif;base64,R0lGODlhAQABAIAAAP///wAAACH5BAEAAAAALAAAAAABAAEAAAICRAEAOw==', '/fileadmin/_processed_/5/d/csm_signature-partenariat-orange-mai-2023-1344x840_eece6c482f.jpg', 'data:image/gif;base64,R0lGODlhAQABAIAAAP///wAAACH5BAEAAAAALAAAAAABAAEAAAICRAEAOw==', '/fileadmin/_processed_/b/0/csm_camille-fahy-cycliste-1344x756_af0832b451.jpg', 'data:image/gif;base64,R0lGODlhAQABAIAAAP///wAAACH5BAEAAAAALAAAAAABAAEAAAICRAEAOw==', '/fileadmin/_processed_/3/2/csm_olivier-francais-1344x840_d151119c68.jpg', 'data:image/gif;base64,R0lGODlhAQABAIAAAP///wAAACH5BAEAAAAALAAAAAABAAEAAAICRAEAOw==', '/fileadmin/_processed_/3/c/csm_logo-actu-cwur-1344x840_96aa069e0e.jpg', 'data:image/gif;base64,R0lGODlhAQABAIAAAP///wAAACH5BAEAAAAALAAAAAABAAEAAAICRAEAOw==', '/fileadmin/_processed_/e/a/csm_story-classements-540x960_1f891460f0.jpg', 'data:image/gif;base64,R0lGODlhAQABAIAAAP///wAAACH5BAEAAAAALAAAAAABAAEAAAICRAEAOw==', '/fileadmin/_processed_/b/4/csm_carte-grand-paris-1344x756_f1f626f07b.jpg', 'data:image/gif;base64,R0lGODlhAQABAIAAAP///wAAACH5BAEAAAAALAAAAAABAAEAAAICRAEAOw==', '/fileadmin/_processed_/7/0/csm_story-feminisation-540x960_6e3222ad89.jpg', 'data:image/gif;base64,R0lGODlhAQABAIAAAP///wAAACH5BAEAAAAALAAAAAABAAEAAAICRAEAOw==', '/fileadmin/_processed_/1/3/csm_test-T20-image_2c0b9a4f93.png', 'data:image/gif;base64,R0lGODlhAQABAIAAAP///wAAACH5BAEAAAAALAAAAAABAAEAAAICRAEAOw==', '/fileadmin/_processed_/0/f/csm_illustration-recherche-galette-1920x1080_a24a19d4b2.jpg', 'data:image/gif;base64,R0lGODlhAQABAIAAAP///wAAACH5BAEAAAAALAAAAAABAAEAAAICRAEAOw==', '/fileadmin/user_upload/Fichiers/entreprises/recruter-apprentis/illustration-travaux-groupe-1920x1080.jpg', 'data:image/gif;base64,R0lGODlhAQABAIAAAP///wAAACH5BAEAAAAALAAAAAABAAEAAAICRAEAOw==', '/fileadmin/user_upload/Fichiers/entreprises/illustration-innovation-abstaite-1920x1080.jpg', 'data:image/gif;base64,R0lGODlhAQABAIAAAP///wAAACH5BAEAAAAALAAAAAABAAEAAAICRAEAOw==', '/fileadmin/user_upload/Fichiers/recherche/illustration-salles-blanches-facade-exterieur-1920x1080.jpg', 'data:image/gif;base64,R0lGODlhAQABAIAAAP///wAAACH5BAEAAAAALAAAAAABAAEAAAICRAEAOw==', '/fileadmin/user_upload/Fichiers/entreprises/illustration-entretien-poignee-mains-1920x1080.jpg', 'data:image/gif;base64,R0lGODlhAQABAIAAAP///wAAACH5BAEAAAAALAAAAAABAAEAAAICRAEAOw==', '/fileadmin/_processed_/d/8/csm_HappyAtSchool_243c0a85a1.png', 'data:image/gif;base64,R0lGODlhAQABAIAAAP///wAAACH5BAEAAAAALAAAAAABAAEAAAICRAEAOw==', '/fileadmin/_processed_/0/9/csm_blank-profile-picture-bleu-400x400_00479b2092.png', 'data:image/gif;base64,R0lGODlhAQABAIAAAP///wAAACH5BAEAAAAALAAAAAABAAEAAAICRAEAOw==', '/fileadmin/_processed_/e/5/csm_blank-profile-picture-rose-400-x-400_ed015df7e9.png', 'data:image/gif;base64,R0lGODlhAQABAIAAAP///wAAACH5BAEAAAAALAAAAAABAAEAAAICRAEAOw==', '/fileadmin/_processed_/0/4/csm_blank-profile-picture-bleu2_400_x_400_97b4966771.png', 'data:image/gif;base64,R0lGODlhAQABAIAAAP///wAAACH5BAEAAAAALAAAAAABAAEAAAICRAEAOw==', '/fileadmin/_processed_/1/1/csm_blank-profile-picture-vert-400-x-400_d335e61b02.png', 'data:image/gif;base64,R0lGODlhAQABAIAAAP///wAAACH5BAEAAAAALAAAAAABAAEAAAICRAEAOw==', '/fileadmin/_processed_/0/9/csm_blank-profile-picture-bleu-400x400_00479b2092.png', 'data:image/gif;base64,R0lGODlhAQABAIAAAP///wAAACH5BAEAAAAALAAAAAABAAEAAAICRAEAOw==', '/fileadmin/_processed_/e/5/csm_blank-profile-picture-rose-400-x-400_ed015df7e9.png', 'data:image/gif;base64,R0lGODlhAQABAIAAAP///wAAACH5BAEAAAAALAAAAAABAAEAAAICRAEAOw==', '/fileadmin/_processed_/0/4/csm_blank-profile-picture-bleu2_400_x_400_97b4966771.png', 'data:image/gif;base64,R0lGODlhAQABAIAAAP///wAAACH5BAEAAAAALAAAAAABAAEAAAICRAEAOw==', '/fileadmin/_processed_/1/1/csm_blank-profile-picture-vert-400-x-400_d335e61b02.png', 'data:image/gif;base64,R0lGODlhAQABAIAAAP///wAAACH5BAEAAAAALAAAAAABAAEAAAICRAEAOw==', '/fileadmin/_processed_/0/9/csm_blank-profile-picture-bleu-400x400_00479b2092.png', 'data:image/gif;base64,R0lGODlhAQABAIAAAP///wAAACH5BAEAAAAALAAAAAABAAEAAAICRAEAOw==', '/fileadmin/_processed_/e/5/csm_blank-profile-picture-rose-400-x-400_ed015df7e9.png', 'data:image/gif;base64,R0lGODlhAQABAIAAAP///wAAACH5BAEAAAAALAAAAAABAAEAAAICRAEAOw==', '/fileadmin/_processed_/0/4/csm_blank-profile-picture-bleu2_400_x_400_97b4966771.png', 'data:image/gif;base64,R0lGODlhAQABAIAAAP///wAAACH5BAEAAAAALAAAAAABAAEAAAICRAEAOw==', '/fileadmin/_processed_/0/1/csm_CGE_RVB_c8cfe1001b.png', 'data:image/gif;base64,R0lGODlhAQABAIAAAP///wAAACH5BAEAAAAALAAAAAABAAEAAAICRAEAOw==', '/fileadmin/_processed_/a/0/csm_cti_logo.svg_64c64e06e1.png', 'data:image/gif;base64,R0lGODlhAQABAIAAAP///wAAACH5BAEAAAAALAAAAAABAAEAAAICRAEAOw==', '/fileadmin/_processed_/e/1/csm_EUR-ACE_52594b329c.png', 'data:image/gif;base64,R0lGODlhAQABAIAAAP///wAAACH5BAEAAAAALAAAAAABAAEAAAICRAEAOw==', '/fileadmin/_processed_/6/e/csm_1200px-DL_04_Dip_Ing.svg_0873c534da.png', '/typo3conf/ext/esiee_sitepackage/Resources/Public/imgs/svg/logo-esiee-footer.svg', '/typo3conf/ext/esiee_sitepackage/Resources/Public/imgs/svg/logo-cci-paris-ile-de-france-education.svg', '/typo3conf/ext/esiee_sitepackage/Resources/Public/imgs/svg/logo-univ-gustave-eiffel.svg'])\n"
     ]
    }
   ],
   "source": [
    "import re\n",
    "import random\n",
    "\n",
    "class HttpRequest : \n",
    "\n",
    "    def __init__(self, url,timeout = 10):\n",
    "        self.url = url \n",
    "        self.timeout = timeout\n",
    "        self.headers = {'User-Agent': self.randomagent()}\n",
    "        \n",
    "        \n",
    "    def scrap(self,tries = 3):\n",
    "        try : \n",
    "            response = requests.get(self.url, headers = self.headers,timeout = self.timeout)\n",
    "            return response\n",
    "        except :\n",
    "            if tries > 0 : \n",
    "                return self.scrap(tries -1)\n",
    "            else : \n",
    "                return(\"aled\")\n",
    "            \n",
    "    def soup(self,response):\n",
    "        return BeautifulSoup(response.text)\n",
    "\n",
    "    def randomagent(self):\n",
    "        list = [\"Mozilla/5.0 (Windows NT 10.0; Win64; x64) AppleWebKit/537.36 (KHTML, like Gecko) Chrome/109.0.0.0 Safari/537.36\",\n",
    "              \"Mozilla/5.0 (Macintosh; Intel Mac OS X 10_15_7) AppleWebKit/537.36 (KHTML, like Gecko) Chrome/109.0.0.0 Safari/537.36\",\n",
    "               \"Mozilla/5.0 (Windows NT 10.0; Win64; x64) AppleWebKit/537.36 (KHTML, like Gecko) Chrome/108.0.0.0 Safari/537.36\",\n",
    "               \"Mozilla/5.0 (Macintosh; Intel Mac OS X 10_15_7) AppleWebKit/537.36 (KHTML, like Gecko) Chrome/108.0.0.0 Safari/537.36\",\n",
    "               \"Mozilla/5.0 (Macintosh; Intel Mac OS X 10_15_7) AppleWebKit/605.1.15 (KHTML, like Gecko) Version/16.1 Safari/605.1.15\"]\n",
    "        return(list[random.randint(0,4)])\n",
    "    \n",
    "    def info(self,soup):\n",
    "        return (soup.title.string,[h1.get_text() for h1 in soup.find_all('h1')],[img['src'] for img in soup.find_all('img')] )\n",
    "        \n",
    "    \n",
    "def supprespace(string):\n",
    "    string.replace(' ', '')\n",
    "    return string \n",
    "\n",
    "def dehors(string):\n",
    "    string = re.sub(r\"[^a-zA-Z0-9]\", \" \", string)\n",
    "    return string \n",
    "    \n",
    "a = HttpRequest(\"http://www.esiee.fr/\")\n",
    "stringhtml = a.scrap()\n",
    "soup = a.soup(stringhtml)\n",
    "info = a.info(soup)\n",
    "print(info)"
   ]
  },
  {
   "cell_type": "markdown",
   "metadata": {},
   "source": [
    "# Exploitation des appels d'API\n"
   ]
  },
  {
   "cell_type": "markdown",
   "metadata": {},
   "source": [
    "\n",
    "Losque le front du site récupère des données sur une API géré par le back, un appel d'API est réalisé. Cet appel est recensé dans les appels réseaux. Il est alors possible de re-jouer cet appel pour récupérer à nouveau les données. Il est très facile de récupérer ces appels dans l'onglet Network de la console développeur de Chrome ou FireFox. La console vous permet de copier le code CURL pour effectuée et vous pouvez ensuite la transformer en code Python depuis le site https://curl.trillworks.com/.\n",
    "\n",
    "Souvent les APIs sont bloquées avec certain paramètres. L'API verifie que dans les headers de la requêtes HTTP ces paramètres sont présents : * un token généré à la volée avec des protocole OAuth2 (ou moins développés). * un referer provenant du site web (la source de la requête), très facile à falsifier.\n",
    "\n"
   ]
  },
  {
   "cell_type": "markdown",
   "metadata": {},
   "source": [
    "## Exercice \n",
    "### Exercice 4\n",
    "\n",
    "- Utiliser les informations développées plus haut pour récupérer les premiers résultats d'une recherche d'une requête\n",
    "sur Qwant. \n",
    "\n",
    "Tips : \n",
    "\n",
    "- Aller sur https://www.qwant.com/\n",
    "- Ouvrir les outils de développements de Chrome ou Firefox\n",
    "- Onglet Network\n",
    "- Fouiller dans les requêtes"
   ]
  },
  {
   "cell_type": "markdown",
   "metadata": {},
   "source": [
    "# Exercice Final  "
   ]
  },
  {
   "cell_type": "markdown",
   "metadata": {},
   "source": [
    "Exercice Final\n",
    "Utilisez tout ce que vous avez appris pour récupérer des articles de News avec une catégorie. Il est souvent intéressant de partir des flux RSS pour commencer :\n",
    "\n",
    "Les données doivent comprendre :\n",
    "- Le texte important propre\n",
    "- L'url\n",
    "- Le domaine\n",
    "- la catégorie\n",
    "- Le titre de l'article\n",
    "- Le titre de la page\n",
    "- (Facultatif) : les images\n",
    "\n",
    "Tips : \n",
    "\n",
    "- Taper le nom de votre média favoris + RSS (par exemple : https://www.lemonde.fr/rss/)\n",
    "- Aller dans le DOM de la page \n",
    "- Trouver les catégories et les liens vers les articles"
   ]
  },
  {
   "cell_type": "code",
   "execution_count": 32,
   "metadata": {},
   "outputs": [
    {
     "name": "stdout",
     "output_type": "stream",
     "text": [
      "www.lemonde.fr\n"
     ]
    }
   ],
   "source": [
    "from urllib.parse import urlparse\n",
    "\n",
    "url =  \"https://www.lemonde.fr/rss/\"\n",
    "print(urlparse(url).netloc)\n",
    "\n",
    "response = requests.get(url)\n",
    "soup = BeautifulSoup(response.text)"
   ]
  },
  {
   "cell_type": "code",
   "execution_count": 54,
   "metadata": {},
   "outputs": [
    {
     "name": "stdout",
     "output_type": "stream",
     "text": [
      "['https://www.lemonde.fr/rss/une.xml', 'https://www.lemonde.fr/rss/en_continu.xml', 'https://www.lemonde.fr/videos/rss_full.xml', 'https://www.lemonde.fr/photo/rss_full.xml', 'https://www.lemonde.fr/rss/plus-lus.xml', 'https://www.lemonde.fr/rss/plus-partages.xml', 'https://www.lemonde.fr/international/rss_full.xml', 'https://www.lemonde.fr/europe/rss_full.xml', 'https://www.lemonde.fr/ameriques/rss_full.xml', 'https://www.lemonde.fr/afrique/rss_full.xml', 'https://www.lemonde.fr/asie-pacifique/rss_full.xml', 'https://www.lemonde.fr/proche-orient/rss_full.xml', 'https://www.lemonde.fr/royaume-uni/rss_full.xml', 'https://www.lemonde.fr/etats-unis/rss_full.xml', 'https://www.lemonde.fr/politique/rss_full.xml', 'https://www.lemonde.fr/societe/rss_full.xml', 'https://www.lemonde.fr/les-decodeurs/rss_full.xml', 'https://www.lemonde.fr/justice/rss_full.xml', 'https://www.lemonde.fr/police/rss_full.xml', 'https://www.lemonde.fr/campus/rss_full.xml', 'https://www.lemonde.fr/education/rss_full.xml', 'https://www.lemonde.fr/economie/rss_full.xml', 'https://www.lemonde.fr/entreprises/rss_full.xml', 'https://www.lemonde.fr/argent/rss_full.xml', 'https://www.lemonde.fr/economie-francaise/rss_full.xml', 'https://www.lemonde.fr/industrie/rss_full.xml', 'https://www.lemonde.fr/emploi/rss_full.xml', 'https://www.lemonde.fr/immobilier/rss_full.xml', 'https://www.lemonde.fr/actualite-medias/rss_full.xml', 'https://www.lemonde.fr/culture/rss_full.xml', 'https://www.lemonde.fr/cinema/rss_full.xml', 'https://www.lemonde.fr/musiques/rss_full.xml', 'https://www.lemonde.fr/televisions-radio/rss_full.xml', 'https://www.lemonde.fr/livres/rss_full.xml', 'https://www.lemonde.fr/arts/rss_full.xml', 'https://www.lemonde.fr/scenes/rss_full.xml', 'https://www.lemonde.fr/sport/rss_full.xml', 'https://www.lemonde.fr/football/rss_full.xml', 'https://www.lemonde.fr/rugby/rss_full.xml', 'https://www.lemonde.fr/tennis/rss_full.xml', 'https://www.lemonde.fr/cyclisme/rss_full.xml', 'https://www.lemonde.fr/basket/rss_full.xml', 'https://www.lemonde.fr/planete/rss_full.xml', 'https://www.lemonde.fr/climat/rss_full.xml', 'https://www.lemonde.fr/agriculture/rss_full.xml', 'https://www.lemonde.fr/afrique-climat-et-environnement/rss_full.xml', 'https://www.lemonde.fr/pixels/rss_full.xml', 'https://www.lemonde.fr/jeux-video/rss_full.xml', 'https://www.lemonde.fr/cultures-web/rss_full.xml', 'https://www.lemonde.fr/sciences/rss_full.xml', 'https://www.lemonde.fr/espace/rss_full.xml', 'https://www.lemonde.fr/biologie/rss_full.xml', 'https://www.lemonde.fr/medecine/rss_full.xml', 'https://www.lemonde.fr/physique/rss_full.xml', 'https://www.lemonde.fr/sante/rss_full.xml', 'https://www.lemonde.fr/idees/rss_full.xml', 'https://www.lemonde.fr/editoriaux/rss_full.xml', 'https://www.lemonde.fr/chroniques/rss_full.xml', 'https://www.lemonde.fr/tribunes/rss_full.xml', 'https://www.lemonde.fr/m-le-mag/rss_full.xml', 'https://www.lemonde.fr/m-perso/rss_full.xml', 'https://www.lemonde.fr/m-styles/rss_full.xml', 'https://www.lemonde.fr/gastronomie/rss_full.xml', 'https://www.lemonde.fr/les-recettes-du-monde/rss_full.xml', 'https://www.lemonde.fr/sexo/rss_full.xml', 'https://www.lemonde.fr/guides-d-achat/rss_full.xml', 'https://www.lemonde.fr/bresil/rss_full.xml']\n",
      "['Actualités ', 'International ', 'France ', 'Economie ', 'Culture ', 'Sport ', 'Planète ', 'Pixels ', 'Sciences: ', 'Opinions', 'M le mag', 'Guide d’achat: ', 'un seul appareil']\n"
     ]
    }
   ],
   "source": [
    "lien = [a['href'] for a in soup.find_all('a', href = True) if a['href'].startswith('http') and a['href'].endswith('.xml')]\n",
    "print(lien)\n",
    "\n",
    "category = [h1.get_text() for h1 in soup.find_all('strong')]\n",
    "print(category)"
   ]
  },
  {
   "cell_type": "code",
   "execution_count": 62,
   "metadata": {},
   "outputs": [
    {
     "name": "stdout",
     "output_type": "stream",
     "text": [
      "Le Monde.fr - Actualités et Infos en France et dans le monde [] []\n",
      "Le Monde.fr - Actualités et Infos en France et dans le monde [] []\n",
      "Vidéos : Toute l’actualité sur Le Monde.fr. [] []\n",
      "Photographie : Toute l’actualité sur Le Monde.fr. [] []\n",
      "Le Monde.fr - Actualités et Infos en France et dans le monde [] []\n",
      "Le Monde.fr - Actualités et Infos en France et dans le monde [] []\n",
      "International : Toute l’actualité sur Le Monde.fr. [] []\n",
      "Europe : Toute l’actualité sur Le Monde.fr. [] []\n",
      "Amériques : Toute l’actualité sur Le Monde.fr. [] []\n",
      "Le Monde Afrique : Toute l’actualité sur Le Monde.fr. [] []\n"
     ]
    }
   ],
   "source": [
    "for i in range(0,10):\n",
    "    response = requests.get(lien[i])\n",
    "    soup = BeautifulSoup(response.text)\n",
    "    print(soup.title.string,[h1 for h1 in soup.find_all('span')],[a['href'] for a in soup.find_all('a', href = True) if a['href'].startswith('http') and a['href'].endswith('.html')])"
   ]
  },
  {
   "cell_type": "code",
   "execution_count": null,
   "metadata": {},
   "outputs": [],
   "source": []
  }
 ],
 "metadata": {
  "kernelspec": {
   "display_name": "Python 3 (ipykernel)",
   "language": "python",
   "name": "python3"
  },
  "language_info": {
   "codemirror_mode": {
    "name": "ipython",
    "version": 3
   },
   "file_extension": ".py",
   "mimetype": "text/x-python",
   "name": "python",
   "nbconvert_exporter": "python",
   "pygments_lexer": "ipython3",
   "version": "3.11.5"
  }
 },
 "nbformat": 4,
 "nbformat_minor": 2
}
